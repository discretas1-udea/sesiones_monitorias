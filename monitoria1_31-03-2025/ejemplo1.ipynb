{
 "cells": [
  {
   "cell_type": "markdown",
   "metadata": {
    "id": "6LtgDIG7TiBk"
   },
   "source": [
    "# Ejemplos python\n",
    "\n",
    "1. Haga un programa que diga \"Hola mundo\"\n",
    "2. Haga un programa que pida el nombre y salude.\n",
    "3. Haga un programa que pida dos numeros y los sume."
   ]
  },
  {
   "cell_type": "markdown",
   "metadata": {
    "id": "wSbFLbVFT3yE"
   },
   "source": [
    "**Solución programa 1**"
   ]
  },
  {
   "cell_type": "code",
   "execution_count": 1,
   "metadata": {
    "colab": {
     "base_uri": "https://localhost:8080/"
    },
    "id": "4UajTjwbTWWy",
    "outputId": "7bd314c2-34b0-42c1-ccd2-b64ba40eabe3"
   },
   "outputs": [
    {
     "name": "stdout",
     "output_type": "stream",
     "text": [
      "Hola mundo\n"
     ]
    }
   ],
   "source": [
    "# Solucion\n",
    "print(\"Hola mundo\")"
   ]
  },
  {
   "cell_type": "markdown",
   "metadata": {},
   "source": [
    "Solucion programa 2"
   ]
  },
  {
   "cell_type": "code",
   "execution_count": 2,
   "metadata": {},
   "outputs": [
    {
     "name": "stdout",
     "output_type": "stream",
     "text": [
      "Hola 3\n"
     ]
    }
   ],
   "source": [
    "# Solucion\n",
    "nombre = input(\"Digite el nombre: \")\n",
    "print(\"Hola\", nombre)"
   ]
  },
  {
   "cell_type": "code",
   "execution_count": null,
   "metadata": {},
   "outputs": [],
   "source": []
  }
 ],
 "metadata": {
  "colab": {
   "provenance": []
  },
  "kernelspec": {
   "display_name": "base",
   "language": "python",
   "name": "python3"
  },
  "language_info": {
   "codemirror_mode": {
    "name": "ipython",
    "version": 3
   },
   "file_extension": ".py",
   "mimetype": "text/x-python",
   "name": "python",
   "nbconvert_exporter": "python",
   "pygments_lexer": "ipython3",
   "version": "3.12.7"
  }
 },
 "nbformat": 4,
 "nbformat_minor": 4
}
