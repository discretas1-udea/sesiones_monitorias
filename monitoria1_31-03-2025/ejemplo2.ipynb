{
 "cells": [
  {
   "cell_type": "markdown",
   "id": "d49333aa-a2d3-4b67-9d83-559a2eb128f2",
   "metadata": {},
   "source": [
    "Haga un programa que meta dos enteros y los sume"
   ]
  },
  {
   "cell_type": "code",
   "execution_count": null,
   "id": "c74e907b-da85-4647-ba83-431f0b3c7cd1",
   "metadata": {},
   "outputs": [],
   "source": [
    "num1 = int(input(\"Digite el primer numero: \"))\n",
    "num2 = int(input(\"Digite el segundo numero: \"))\n",
    "suma = num1 + num2\n",
    "print(\"La suma de ambos numeros da\", suma)"
   ]
  }
 ],
 "metadata": {
  "kernelspec": {
   "display_name": "Python 3 (ipykernel)",
   "language": "python",
   "name": "python3"
  },
  "language_info": {
   "codemirror_mode": {
    "name": "ipython",
    "version": 3
   },
   "file_extension": ".py",
   "mimetype": "text/x-python",
   "name": "python",
   "nbconvert_exporter": "python",
   "pygments_lexer": "ipython3",
   "version": "3.12.7"
  }
 },
 "nbformat": 4,
 "nbformat_minor": 5
}
